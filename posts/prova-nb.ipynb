{
 "cells": [
  {
   "cell_type": "markdown",
   "metadata": {},
   "source": [
    "hey does math work?\n",
    "\n",
    "aa\n",
    "\\\\(\n",
    "\\alpha = \\beta\n",
    "\\\\)\n",
    "bb\n",
    " \n",
    "aa $\\alpha$ bb\n",
    "\n",
    "\\\\[\n",
    "\\alpha = \\beta\n",
    "\\\\]"
   ]
  },
  {
   "cell_type": "code",
   "execution_count": null,
   "metadata": {},
   "outputs": [],
   "source": [
    "a = 1"
   ]
  }
 ],
 "metadata": {
  "kernelspec": {
   "display_name": "Python 3",
   "language": "python",
   "name": "python3"
  },
  "language_info": {
   "codemirror_mode": {
    "name": "ipython",
    "version": 3
   },
   "file_extension": ".py",
   "mimetype": "text/x-python",
   "name": "python",
   "nbconvert_exporter": "python",
   "pygments_lexer": "ipython3",
   "version": "3.6.5"
  },
  "nikola": {
   "category": "",
   "date": "2018-02-07 16:37:57 UTC+01:00",
   "description": "nb descr",
   "link": "",
   "slug": "prova-nb",
   "tags": "mathjax",
   "title": "prova nb",
   "type": "text"
  }
 },
 "nbformat": 4,
 "nbformat_minor": 2
}
