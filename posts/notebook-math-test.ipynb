{
 "cells": [
  {
   "cell_type": "markdown",
   "metadata": {},
   "source": [
    "notebook markdown comment with math\n",
    "\n",
    "inline ``\\(`` pre\n",
    "\\\\(\n",
    "\\alpha = \\frac{\\beta}{\\gamma}\n",
    "\\\\)\n",
    "post\n",
    "\n",
    "inline ``$``\n",
    "pre $\\alpha = \\frac{\\beta}{\\gamma}$ post\n",
    "\n",
    "inline ``$\\displaystyle``\n",
    "pre $\\displaystyle\\alpha = \\frac{\\beta}{\\gamma}$ post\n",
    "\n",
    "display ``\\[`` pre\n",
    "\\\\[\n",
    "\\alpha = \\frac{\\beta}{\\gamma}\n",
    "\\\\]\n",
    "post"
   ]
  },
  {
   "cell_type": "code",
   "execution_count": null,
   "metadata": {},
   "outputs": [],
   "source": [
    "a = 1"
   ]
  }
 ],
 "metadata": {
  "kernelspec": {
   "display_name": "Python 3",
   "language": "python",
   "name": "python3"
  },
  "language_info": {
   "codemirror_mode": {
    "name": "ipython",
    "version": 3
   },
   "file_extension": ".py",
   "mimetype": "text/x-python",
   "name": "python",
   "nbconvert_exporter": "python",
   "pygments_lexer": "ipython3",
   "version": "3.6.7"
  },
  "nikola": {
   "category": "math",
   "date": "2018-02-07 16:37:57 UTC+01:00",
   "description": "test math in notebook markdown comment",
   "link": "",
   "slug": "notebook-math-test",
   "tags": "mathjax",
   "title": "notebook math test",
   "type": "text"
  }
 },
 "nbformat": 4,
 "nbformat_minor": 2
}
